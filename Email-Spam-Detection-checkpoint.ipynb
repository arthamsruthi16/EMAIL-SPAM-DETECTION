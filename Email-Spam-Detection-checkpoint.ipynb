{
 "cells": [
  {
   "cell_type": "code",
   "execution_count": 1,
   "id": "a19e4b1e",
   "metadata": {},
   "outputs": [
    {
     "name": "stdout",
     "output_type": "stream",
     "text": [
      "Dataset Shape: (5572, 2)\n",
      "\n",
      "First 5 Rows:\n",
      "   label                                            message\n",
      "0   ham  Go until jurong point, crazy.. Available only ...\n",
      "1   ham                      Ok lar... Joking wif u oni...\n",
      "2  spam  Free entry in 2 a wkly comp to win FA Cup fina...\n",
      "3   ham  U dun say so early hor... U c already then say...\n",
      "4   ham  Nah I don't think he goes to usf, he lives aro...\n"
     ]
    }
   ],
   "source": [
    "import pandas as pd\n",
    "import numpy as np\n",
    "import matplotlib.pyplot as plt\n",
    "import seaborn as sns\n",
    "import string\n",
    "import re\n",
    "\n",
    "from sklearn.model_selection import train_test_split\n",
    "from sklearn.feature_extraction.text import TfidfVectorizer\n",
    "from sklearn.naive_bayes import MultinomialNB\n",
    "from sklearn.linear_model import LogisticRegression\n",
    "from sklearn.ensemble import RandomForestClassifier\n",
    "from sklearn.svm import LinearSVC\n",
    "from sklearn.metrics import accuracy_score, confusion_matrix, classification_report\n",
    "\n",
    "# ---------------- STEP 1: LOAD DATA ----------------\n",
    "df = pd.read_csv(\"C:\\Excel\\spam.csv\", encoding=\"latin-1\")\n",
    "df = df[['v1','v2']]\n",
    "df.columns = ['label','message']\n",
    "\n",
    "print(\"Dataset Shape:\", df.shape)\n",
    "print(\"\\nFirst 5 Rows:\\n\", df.head())\n",
    "\n"
   ]
  },
  {
   "cell_type": "code",
   "execution_count": 2,
   "id": "c5025ed0",
   "metadata": {},
   "outputs": [
    {
     "data": {
      "image/png": "[encoded data removed]",
      "text/plain": [
       "<Figure size 600x400 with 1 Axes>"
      ]
     },
     "metadata": {},
     "output_type": "display_data"
    }
   ],
   "source": [
    "\n",
    "# ---------------- STEP 2: DATA VISUALIZATION ----------------\n",
    "plt.figure(figsize=(6,4))\n",
    "sns.countplot(x=df['label'], palette=\"Set2\")\n",
    "plt.title(\"Distribution of Ham vs Spam Emails\")\n",
    "plt.show()\n"
   ]
  },
  {
   "cell_type": "code",
   "execution_count": 3,
   "id": "77f0ab7d",
   "metadata": {},
   "outputs": [],
   "source": [
    "# ---------------- STEP 3: TEXT CLEANING ----------------\n",
    "def clean_text(text):\n",
    "    text = text.lower()\n",
    "    text = re.sub(r'\\d+', '', text)  # remove numbers\n",
    "    text = text.translate(str.maketrans('', '', string.punctuation))  # remove punctuation\n",
    "    text = text.strip()\n",
    "    return text\n",
    "\n",
    "df['message'] = df['message'].apply(clean_text)\n",
    "\n",
    "# Encode Labels\n",
    "df['label'] = df['label'].map({'ham':0, 'spam':1})\n",
    "\n"
   ]
  },
  {
   "cell_type": "code",
   "execution_count": 4,
   "id": "4572bed4",
   "metadata": {},
   "outputs": [],
   "source": [
    "# ---------------- STEP 4: SPLIT DATA ----------------\n",
    "X = df['message']\n",
    "y = df['label']\n",
    "\n",
    "X_train, X_test, y_train, y_test = train_test_split(X, y, test_size=0.2, random_state=42)\n",
    "\n"
   ]
  },
  {
   "cell_type": "code",
   "execution_count": 5,
   "id": "a1b08968",
   "metadata": {},
   "outputs": [],
   "source": [
    "# ---------------- STEP 5: FEATURE EXTRACTION ----------------\n",
    "vectorizer = TfidfVectorizer(max_features=3000, stop_words='english')\n",
    "X_train_tfidf = vectorizer.fit_transform(X_train)\n",
    "X_test_tfidf = vectorizer.transform(X_test)\n",
    "\n"
   ]
  },
  {
   "cell_type": "code",
   "execution_count": 6,
   "id": "2693f011",
   "metadata": {},
   "outputs": [
    {
     "name": "stdout",
     "output_type": "stream",
     "text": [
      "\n",
      "------ Naive Bayes ------\n",
      "Accuracy: 0.9730941704035875\n",
      "Confusion Matrix:\n",
      " [[965   0]\n",
      " [ 30 120]]\n",
      "Classification Report:\n",
      "               precision    recall  f1-score   support\n",
      "\n",
      "           0       0.97      1.00      0.98       965\n",
      "           1       1.00      0.80      0.89       150\n",
      "\n",
      "    accuracy                           0.97      1115\n",
      "   macro avg       0.98      0.90      0.94      1115\n",
      "weighted avg       0.97      0.97      0.97      1115\n",
      "\n",
      "\n",
      "------ Logistic Regression ------\n",
      "Accuracy: 0.9560538116591928\n",
      "Confusion Matrix:\n",
      " [[963   2]\n",
      " [ 47 103]]\n",
      "Classification Report:\n",
      "               precision    recall  f1-score   support\n",
      "\n",
      "           0       0.95      1.00      0.98       965\n",
      "           1       0.98      0.69      0.81       150\n",
      "\n",
      "    accuracy                           0.96      1115\n",
      "   macro avg       0.97      0.84      0.89      1115\n",
      "weighted avg       0.96      0.96      0.95      1115\n",
      "\n",
      "\n",
      "------ Random Forest ------\n",
      "Accuracy: 0.9748878923766816\n",
      "Confusion Matrix:\n",
      " [[965   0]\n",
      " [ 28 122]]\n",
      "Classification Report:\n",
      "               precision    recall  f1-score   support\n",
      "\n",
      "           0       0.97      1.00      0.99       965\n",
      "           1       1.00      0.81      0.90       150\n",
      "\n",
      "    accuracy                           0.97      1115\n",
      "   macro avg       0.99      0.91      0.94      1115\n",
      "weighted avg       0.98      0.97      0.97      1115\n",
      "\n",
      "\n",
      "------ Support Vector Machine ------\n",
      "Accuracy: 0.979372197309417\n",
      "Confusion Matrix:\n",
      " [[961   4]\n",
      " [ 19 131]]\n",
      "Classification Report:\n",
      "               precision    recall  f1-score   support\n",
      "\n",
      "           0       0.98      1.00      0.99       965\n",
      "           1       0.97      0.87      0.92       150\n",
      "\n",
      "    accuracy                           0.98      1115\n",
      "   macro avg       0.98      0.93      0.95      1115\n",
      "weighted avg       0.98      0.98      0.98      1115\n",
      "\n"
     ]
    }
   ],
   "source": [
    "# ---------------- STEP 6: TRAIN MULTIPLE MODELS ----------------\n",
    "models = {\n",
    "    \"Naive Bayes\": MultinomialNB(),\n",
    "    \"Logistic Regression\": LogisticRegression(max_iter=1000),\n",
    "    \"Random Forest\": RandomForestClassifier(n_estimators=100, random_state=42),\n",
    "    \"Support Vector Machine\": LinearSVC()\n",
    "}\n",
    "\n",
    "results = {}\n",
    "\n",
    "for model_name, model in models.items():\n",
    "    model.fit(X_train_tfidf, y_train)\n",
    "    y_pred = model.predict(X_test_tfidf)\n",
    "    acc = accuracy_score(y_test, y_pred)\n",
    "    results[model_name] = acc\n",
    "    \n",
    "    print(\"\\n------\", model_name, \"------\")\n",
    "    print(\"Accuracy:\", acc)\n",
    "    print(\"Confusion Matrix:\\n\", confusion_matrix(y_test, y_pred))\n",
    "    print(\"Classification Report:\\n\", classification_report(y_test, y_pred))\n",
    "\n"
   ]
  },
  {
   "cell_type": "code",
   "execution_count": 7,
   "id": "5548c508",
   "metadata": {},
   "outputs": [
    {
     "data": {
      "image/png": "[encoded data removed]",
      "text/plain": [
       "<Figure size 700x500 with 1 Axes>"
      ]
     },
     "metadata": {},
     "output_type": "display_data"
    }
   ],
   "source": [
    "# ---------------- STEP 7: VISUALIZE MODEL PERFORMANCE ----------------\n",
    "plt.figure(figsize=(7,5))\n",
    "sns.barplot(x=list(results.keys()), y=list(results.values()), palette=\"viridis\")\n",
    "plt.title(\"Model Accuracy Comparison\")\n",
    "plt.ylabel(\"Accuracy\")\n",
    "plt.ylim(0.9, 1.0)\n",
    "plt.show()\n",
    "\n"
   ]
  },
  {
   "cell_type": "code",
   "execution_count": 8,
   "id": "f36a825b",
   "metadata": {},
   "outputs": [
    {
     "name": "stdout",
     "output_type": "stream",
     "text": [
      "Spam 🚨\n",
      "Not Spam ✅\n",
      "Spam 🚨\n"
     ]
    }
   ],
   "source": [
    "# ---------------- STEP 8: CUSTOM INPUT PREDICTION ----------------\n",
    "best_model = models[\"Naive Bayes\"]  # you can switch to best one from results\n",
    "\n",
    "def predict_email(message):\n",
    "    message = clean_text(message)\n",
    "    message_tfidf = vectorizer.transform([message])\n",
    "    prediction = best_model.predict(message_tfidf)[0]\n",
    "    return \"Spam 🚨\" if prediction == 1 else \"Not Spam ✅\"\n",
    "\n",
    "# Test Custom Messages\n",
    "print(predict_email(\"Congratulations! You have won a free lottery of $10,000\"))\n",
    "print(predict_email(\"Hi friend, are we still meeting tomorrow for the project?\"))\n",
    "print(predict_email(\"URGENT! Update your bank details immediately to avoid suspension.\"))\n"
   ]
  },
  {
   "cell_type": "code",
   "execution_count": null,
   "id": "f5f008ac",
   "metadata": {},
   "outputs": [],
   "source": []
  }
 ],
 "metadata": {
  "kernelspec": {
   "display_name": "Python 3 (ipykernel)",
   "language": "python",
   "name": "python3"
  },
  "language_info": {
   "codemirror_mode": {
    "name": "ipython",
    "version": 3
   },
   "file_extension": ".py",
   "mimetype": "text/x-python",
   "name": "python",
   "nbconvert_exporter": "python",
   "pygments_lexer": "ipython3",
   "version": "3.7.9"
  }
 },
 "nbformat": 4,
 "nbformat_minor": 5
}
